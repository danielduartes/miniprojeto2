{
 "cells": [
  {
   "cell_type": "markdown",
   "metadata": {},
   "source": [
    "# Extração de Features e Construção do Modelo"
   ]
  },
  {
   "cell_type": "markdown",
   "metadata": {},
   "source": [
    "### 1. Introdução a Extração de Features\n",
    "- A extração de features é uma parte muito importante na análise e na identificação de relações entre diferentes elementos. Como já sabemos, os dados de áudio não podem ser compreendidos diretamente pelos modelos, então precisamos convertê-los para um formato inteligível, e é para isso que a extração de features é utilizada.\n"
   ]
  },
  {
   "cell_type": "markdown",
   "metadata": {},
   "source": [
    "#### Com a taxa de amostragem e os dados do sinal, podemos realizar diversas transformações para extrair características valiosas do áudio. No entanto, neste projeto, não vamos aprofundar no processo de seleção de features para identificar quais são mais relevantes para o nosso dataset. Em vez disso, vamos extrair cinco features principais para treinar nosso modelo:\n",
    "- **Zero Crossing Rate (ZCR):** Mede a taxa de mudanças de sinal no áudio, ou seja, quantas vezes ele cruza o eixo zero em um determinado intervalo de tempo. Essa feature é útil para distinguir sons percussivos e não percussivos.\n",
    "- **Chroma STFT:** Representa a energia espectral em 12 bins correspondentes às notas da escala musical ocidental. Essa característica é útil para identificar padrões harmônicos no áudio.\n",
    "- **MFCC (Mel-Frequency Cepstral Coefficients):** Converte a frequência do áudio para a escala mel, aproximando-se da percepção auditiva humana. É uma das features mais utilizadas em reconhecimento de fala e emoção.\n",
    "- **RMS (Root Mean Square):** Mede a energia do sinal ao calcular a média quadrática das amplitudes do áudio. Essa feature ajuda a representar a intensidade do som.\n",
    "- **Mel Spectrogram:** Representa a distribuição de energia do áudio em diferentes faixas de frequência na escala mel, capturando informações espectrais essenciais."
   ]
  },
  {
   "cell_type": "markdown",
   "metadata": {},
   "source": [
    "### 1.1. Importando as bibliotecas"
   ]
  },
  {
   "cell_type": "code",
   "execution_count": 112,
   "metadata": {},
   "outputs": [],
   "source": [
    "import pandas as pd\n",
    "import numpy as np\n",
    "import random\n",
    "\n",
    "import pickle\n",
    "import os\n",
    "import sys\n",
    "\n",
    "import librosa\n",
    "import librosa.display\n",
    "import seaborn as sns\n",
    "import matplotlib.pyplot as plt\n",
    "\n",
    "from sklearn.preprocessing import StandardScaler, OneHotEncoder\n",
    "from sklearn.metrics import confusion_matrix, classification_report\n",
    "from sklearn.model_selection import train_test_split\n",
    "\n",
    "from IPython.display import Audio\n",
    "\n",
    "import keras\n",
    "from keras.callbacks import ReduceLROnPlateau\n",
    "from keras.models import Sequential\n",
    "from keras.layers import Dense, Conv1D, MaxPooling1D, Flatten, Dropout, BatchNormalization\n",
    "from keras.utils import to_categorical\n",
    "from keras.callbacks import ModelCheckpoint\n",
    "import joblib\n",
    "\n",
    "import warnings\n",
    "if not sys.warnoptions:\n",
    "    warnings.simplefilter(\"ignore\")\n",
    "warnings.filterwarnings(\"ignore\", category=DeprecationWarning) "
   ]
  },
  {
   "cell_type": "markdown",
   "metadata": {},
   "source": [
    "### 1.2. Carregar o Dataframe da EDA "
   ]
  },
  {
   "cell_type": "code",
   "execution_count": 86,
   "metadata": {},
   "outputs": [],
   "source": [
    "data_path = r\"../data/ravdess_preprocessed.csv\" \n",
    "df = pd.read_csv(data_path)"
   ]
  },
  {
   "cell_type": "code",
   "execution_count": 59,
   "metadata": {},
   "outputs": [
    {
     "data": {
      "text/html": [
       "<div>\n",
       "<style scoped>\n",
       "    .dataframe tbody tr th:only-of-type {\n",
       "        vertical-align: middle;\n",
       "    }\n",
       "\n",
       "    .dataframe tbody tr th {\n",
       "        vertical-align: top;\n",
       "    }\n",
       "\n",
       "    .dataframe thead th {\n",
       "        text-align: right;\n",
       "    }\n",
       "</style>\n",
       "<table border=\"1\" class=\"dataframe\">\n",
       "  <thead>\n",
       "    <tr style=\"text-align: right;\">\n",
       "      <th></th>\n",
       "      <th>Unnamed: 0</th>\n",
       "      <th>Emotions</th>\n",
       "      <th>Path</th>\n",
       "      <th>Processed_Path</th>\n",
       "    </tr>\n",
       "  </thead>\n",
       "  <tbody>\n",
       "    <tr>\n",
       "      <th>0</th>\n",
       "      <td>0</td>\n",
       "      <td>neutral</td>\n",
       "      <td>C:\\Users\\duart\\Downloads\\Audio_Speech_Actors_0...</td>\n",
       "      <td>c:\\Users\\duart\\OneDrive\\Documentos\\Trilha UFPB...</td>\n",
       "    </tr>\n",
       "    <tr>\n",
       "      <th>1</th>\n",
       "      <td>1</td>\n",
       "      <td>neutral</td>\n",
       "      <td>C:\\Users\\duart\\Downloads\\Audio_Speech_Actors_0...</td>\n",
       "      <td>c:\\Users\\duart\\OneDrive\\Documentos\\Trilha UFPB...</td>\n",
       "    </tr>\n",
       "    <tr>\n",
       "      <th>2</th>\n",
       "      <td>2</td>\n",
       "      <td>neutral</td>\n",
       "      <td>C:\\Users\\duart\\Downloads\\Audio_Speech_Actors_0...</td>\n",
       "      <td>c:\\Users\\duart\\OneDrive\\Documentos\\Trilha UFPB...</td>\n",
       "    </tr>\n",
       "    <tr>\n",
       "      <th>3</th>\n",
       "      <td>3</td>\n",
       "      <td>neutral</td>\n",
       "      <td>C:\\Users\\duart\\Downloads\\Audio_Speech_Actors_0...</td>\n",
       "      <td>c:\\Users\\duart\\OneDrive\\Documentos\\Trilha UFPB...</td>\n",
       "    </tr>\n",
       "    <tr>\n",
       "      <th>4</th>\n",
       "      <td>4</td>\n",
       "      <td>calm</td>\n",
       "      <td>C:\\Users\\duart\\Downloads\\Audio_Speech_Actors_0...</td>\n",
       "      <td>c:\\Users\\duart\\OneDrive\\Documentos\\Trilha UFPB...</td>\n",
       "    </tr>\n",
       "    <tr>\n",
       "      <th>...</th>\n",
       "      <td>...</td>\n",
       "      <td>...</td>\n",
       "      <td>...</td>\n",
       "      <td>...</td>\n",
       "    </tr>\n",
       "    <tr>\n",
       "      <th>1435</th>\n",
       "      <td>1435</td>\n",
       "      <td>surprise</td>\n",
       "      <td>C:\\Users\\duart\\Downloads\\Audio_Speech_Actors_0...</td>\n",
       "      <td>c:\\Users\\duart\\OneDrive\\Documentos\\Trilha UFPB...</td>\n",
       "    </tr>\n",
       "    <tr>\n",
       "      <th>1436</th>\n",
       "      <td>1436</td>\n",
       "      <td>surprise</td>\n",
       "      <td>C:\\Users\\duart\\Downloads\\Audio_Speech_Actors_0...</td>\n",
       "      <td>c:\\Users\\duart\\OneDrive\\Documentos\\Trilha UFPB...</td>\n",
       "    </tr>\n",
       "    <tr>\n",
       "      <th>1437</th>\n",
       "      <td>1437</td>\n",
       "      <td>surprise</td>\n",
       "      <td>C:\\Users\\duart\\Downloads\\Audio_Speech_Actors_0...</td>\n",
       "      <td>c:\\Users\\duart\\OneDrive\\Documentos\\Trilha UFPB...</td>\n",
       "    </tr>\n",
       "    <tr>\n",
       "      <th>1438</th>\n",
       "      <td>1438</td>\n",
       "      <td>surprise</td>\n",
       "      <td>C:\\Users\\duart\\Downloads\\Audio_Speech_Actors_0...</td>\n",
       "      <td>c:\\Users\\duart\\OneDrive\\Documentos\\Trilha UFPB...</td>\n",
       "    </tr>\n",
       "    <tr>\n",
       "      <th>1439</th>\n",
       "      <td>1439</td>\n",
       "      <td>surprise</td>\n",
       "      <td>C:\\Users\\duart\\Downloads\\Audio_Speech_Actors_0...</td>\n",
       "      <td>c:\\Users\\duart\\OneDrive\\Documentos\\Trilha UFPB...</td>\n",
       "    </tr>\n",
       "  </tbody>\n",
       "</table>\n",
       "<p>1440 rows × 4 columns</p>\n",
       "</div>"
      ],
      "text/plain": [
       "      Unnamed: 0  Emotions                                               Path  \\\n",
       "0              0   neutral  C:\\Users\\duart\\Downloads\\Audio_Speech_Actors_0...   \n",
       "1              1   neutral  C:\\Users\\duart\\Downloads\\Audio_Speech_Actors_0...   \n",
       "2              2   neutral  C:\\Users\\duart\\Downloads\\Audio_Speech_Actors_0...   \n",
       "3              3   neutral  C:\\Users\\duart\\Downloads\\Audio_Speech_Actors_0...   \n",
       "4              4      calm  C:\\Users\\duart\\Downloads\\Audio_Speech_Actors_0...   \n",
       "...          ...       ...                                                ...   \n",
       "1435        1435  surprise  C:\\Users\\duart\\Downloads\\Audio_Speech_Actors_0...   \n",
       "1436        1436  surprise  C:\\Users\\duart\\Downloads\\Audio_Speech_Actors_0...   \n",
       "1437        1437  surprise  C:\\Users\\duart\\Downloads\\Audio_Speech_Actors_0...   \n",
       "1438        1438  surprise  C:\\Users\\duart\\Downloads\\Audio_Speech_Actors_0...   \n",
       "1439        1439  surprise  C:\\Users\\duart\\Downloads\\Audio_Speech_Actors_0...   \n",
       "\n",
       "                                         Processed_Path  \n",
       "0     c:\\Users\\duart\\OneDrive\\Documentos\\Trilha UFPB...  \n",
       "1     c:\\Users\\duart\\OneDrive\\Documentos\\Trilha UFPB...  \n",
       "2     c:\\Users\\duart\\OneDrive\\Documentos\\Trilha UFPB...  \n",
       "3     c:\\Users\\duart\\OneDrive\\Documentos\\Trilha UFPB...  \n",
       "4     c:\\Users\\duart\\OneDrive\\Documentos\\Trilha UFPB...  \n",
       "...                                                 ...  \n",
       "1435  c:\\Users\\duart\\OneDrive\\Documentos\\Trilha UFPB...  \n",
       "1436  c:\\Users\\duart\\OneDrive\\Documentos\\Trilha UFPB...  \n",
       "1437  c:\\Users\\duart\\OneDrive\\Documentos\\Trilha UFPB...  \n",
       "1438  c:\\Users\\duart\\OneDrive\\Documentos\\Trilha UFPB...  \n",
       "1439  c:\\Users\\duart\\OneDrive\\Documentos\\Trilha UFPB...  \n",
       "\n",
       "[1440 rows x 4 columns]"
      ]
     },
     "execution_count": 59,
     "metadata": {},
     "output_type": "execute_result"
    }
   ],
   "source": [
    "df"
   ]
  },
  {
   "cell_type": "markdown",
   "metadata": {},
   "source": [
    "### 2. Criando uma função para extração das features"
   ]
  },
  {
   "cell_type": "markdown",
   "metadata": {},
   "source": [
    "##### Fizemos essa parte no notebook passado, então você pode copiar e colar o código das funções aqui, pois precisaremos delas:"
   ]
  },
  {
   "cell_type": "code",
   "execution_count": 87,
   "metadata": {},
   "outputs": [],
   "source": [
    "def noise(data):\n",
    "    noise_amplitude = data.std()\n",
    "    noise_data = np.random.normal(0, noise_amplitude, data.size)\n",
    "    augmented_signal = data + noise_data\n",
    "    return augmented_signal \n",
    "\n",
    "def stretch(data, rate=0.8):\n",
    "    stretched_audio = librosa.effects.time_stretch(y=data, rate=rate)\n",
    "    return stretched_audio \n",
    "\n",
    "def shift(data):\n",
    "    shift_amount = random.random(1 * len(data))\n",
    "    shifted_audio = np.roll(data, shift_amount)\n",
    "    return shifted_audio \n",
    "\n",
    "def pitch(data, sampling_rate, pitch_factor=0.7):\n",
    "    pitch_change = librosa.effects.pitch_shift(y=data, sr=sampling_rate, n_steps=pitch_factor)\n",
    "    return pitch_change \n",
    "\n",
    "# Tomando um áudio qualquer com exemplo\n",
    "path = np.array(df.Path)[1]\n",
    "data, sample_rate = librosa.load(path)"
   ]
  },
  {
   "cell_type": "markdown",
   "metadata": {},
   "source": [
    "##### Aqui você deve extrair essas features de fato... mais tarde você precisará delas :)"
   ]
  },
  {
   "cell_type": "code",
   "execution_count": 88,
   "metadata": {},
   "outputs": [],
   "source": [
    "def extract_features(data, sample_rate): \n",
    "    result = np.array([])\n",
    "    # zcr\n",
    "    zcr = np.mean(librosa.feature.zero_crossing_rate(y=data, pad=False), axis=1)\n",
    "    result = np.hstack((result, zcr))\n",
    "\n",
    "    # Chroma_stft\n",
    "    chroma_stft = np.mean(librosa.feature.chroma_stft(y=data, sr=sample_rate), axis=1)\n",
    "    result = np.hstack((result, chroma_stft)) \n",
    "\n",
    "    # MFCC\n",
    "    mfcc = np.mean(librosa.feature.mfcc(y=data, sr=sample_rate), axis=1)\n",
    "    result = np.hstack((result, mfcc))\n",
    "\n",
    "    # Root Mean Square Value\n",
    "    rms = np.mean(librosa.feature.rms(y=data, frame_length=2048, hop_length=512), axis=1)\n",
    "    result = np.hstack((result, rms))\n",
    "\n",
    "    # MelSpectrogram\n",
    "    mel = np.mean(librosa.feature.melspectrogram(y=data, sr = sample_rate), axis=1)\n",
    "    result = np.hstack((result, mel))\n",
    "    \n",
    "    return result\n",
    "\n",
    "def get_features(path):\n",
    "    # Carregar áudio\n",
    "    data, sample_rate = librosa.load(path, duration=2.5, offset=0.6)\n",
    "\n",
    "    # Sem aumento de dados\n",
    "    res1 = extract_features(data, sample_rate)  \n",
    "    result = np.array(res1)\n",
    "\n",
    "    # Com ruído\n",
    "    noise_data = noise(data)\n",
    "    res2 = extract_features(noise_data, sample_rate)  \n",
    "    result = np.vstack((result, res2))\n",
    "\n",
    "    # Com alongamento e mudança de pitch\n",
    "    new_data = stretch(data) \n",
    "    data_stretch_pitch = pitch(new_data, sample_rate) \n",
    "    res3 = extract_features(data_stretch_pitch, sample_rate) \n",
    "    result = np.vstack((result, res3)) \n",
    "    \n",
    "    return result"
   ]
  },
  {
   "cell_type": "markdown",
   "metadata": {},
   "source": [
    "##### Rode as células abaixo"
   ]
  },
  {
   "cell_type": "code",
   "execution_count": 89,
   "metadata": {},
   "outputs": [],
   "source": [
    "X, Y = [], []\n",
    "for path, emotion in zip(df['Path'], df['Emotions']):\n",
    "    feature = get_features(path)\n",
    "    # Appending emotion 3 times as we have made 3 augmentation techniques on each audio file.\n",
    "    for ele in feature:\n",
    "        X.append(ele)\n",
    "        Y.append(emotion)"
   ]
  },
  {
   "cell_type": "code",
   "execution_count": 90,
   "metadata": {},
   "outputs": [
    {
     "data": {
      "text/plain": [
       "(4320, 4320, (1440,))"
      ]
     },
     "execution_count": 90,
     "metadata": {},
     "output_type": "execute_result"
    }
   ],
   "source": [
    "len(X), len(Y), df.Path.shape"
   ]
  },
  {
   "cell_type": "markdown",
   "metadata": {},
   "source": [
    "##### Agora você deverá salvar o csv de features (features.csv)"
   ]
  },
  {
   "cell_type": "code",
   "execution_count": 91,
   "metadata": {},
   "outputs": [
    {
     "name": "stdout",
     "output_type": "stream",
     "text": [
      "O arquivo foi salvo em: c:\\Users\\duart\\OneDrive\\Documentos\\Trilha UFPB 2025.2\\Miniprojetos\\miniprojeto2\\data\\features.csv\n"
     ]
    }
   ],
   "source": [
    "# os.path.dirname() retorna o nome de um diretório\n",
    "# os.getcwd() retorna o diretório pai \n",
    "data_dir = os.path.join(os.path.dirname(os.getcwd()), \"data\") # acessa o diretório pai na pasta 'data'\n",
    "os.makedirs(data_dir, exist_ok=True)\n",
    "\n",
    "# armazena a informação de onde será salvo o CSV criado\n",
    "csv_path = os.path.join(data_dir, \"features.csv\")\n",
    "\n",
    "# Crie um DataFrame do pandas chamado Features usando a lista X.\n",
    "features = pd.DataFrame(X)\n",
    "\n",
    "# Transformando Y em um dataset com uma única coluna\n",
    "labels = pd.DataFrame(Y, columns=['labels'])\n",
    "\n",
    "# Concatenando o dataset labels a features\n",
    "features = pd.concat([features, labels], axis=1)\n",
    "\n",
    "# Salve o DataFrame como um arquivo CSV no caminho definido, sem incluir o índice, definindo _index_=False\n",
    "features.to_csv(csv_path, index=False)\n",
    "\n",
    "\n",
    "print(f\"O arquivo foi salvo em: {csv_path}\")"
   ]
  },
  {
   "cell_type": "code",
   "execution_count": 92,
   "metadata": {},
   "outputs": [
    {
     "data": {
      "text/html": [
       "<div>\n",
       "<style scoped>\n",
       "    .dataframe tbody tr th:only-of-type {\n",
       "        vertical-align: middle;\n",
       "    }\n",
       "\n",
       "    .dataframe tbody tr th {\n",
       "        vertical-align: top;\n",
       "    }\n",
       "\n",
       "    .dataframe thead th {\n",
       "        text-align: right;\n",
       "    }\n",
       "</style>\n",
       "<table border=\"1\" class=\"dataframe\">\n",
       "  <thead>\n",
       "    <tr style=\"text-align: right;\">\n",
       "      <th></th>\n",
       "      <th>0</th>\n",
       "      <th>1</th>\n",
       "      <th>2</th>\n",
       "      <th>3</th>\n",
       "      <th>4</th>\n",
       "      <th>5</th>\n",
       "      <th>6</th>\n",
       "      <th>7</th>\n",
       "      <th>8</th>\n",
       "      <th>9</th>\n",
       "      <th>...</th>\n",
       "      <th>153</th>\n",
       "      <th>154</th>\n",
       "      <th>155</th>\n",
       "      <th>156</th>\n",
       "      <th>157</th>\n",
       "      <th>158</th>\n",
       "      <th>159</th>\n",
       "      <th>160</th>\n",
       "      <th>161</th>\n",
       "      <th>labels</th>\n",
       "    </tr>\n",
       "  </thead>\n",
       "  <tbody>\n",
       "    <tr>\n",
       "      <th>0</th>\n",
       "      <td>0.321275</td>\n",
       "      <td>0.577371</td>\n",
       "      <td>0.591136</td>\n",
       "      <td>0.492400</td>\n",
       "      <td>0.461673</td>\n",
       "      <td>0.500125</td>\n",
       "      <td>0.495526</td>\n",
       "      <td>0.515726</td>\n",
       "      <td>0.584809</td>\n",
       "      <td>0.624386</td>\n",
       "      <td>...</td>\n",
       "      <td>4.310903e-06</td>\n",
       "      <td>3.291511e-06</td>\n",
       "      <td>2.148075e-06</td>\n",
       "      <td>2.279739e-06</td>\n",
       "      <td>5.116493e-06</td>\n",
       "      <td>8.190282e-06</td>\n",
       "      <td>0.000007</td>\n",
       "      <td>0.000005</td>\n",
       "      <td>4.245834e-07</td>\n",
       "      <td>neutral</td>\n",
       "    </tr>\n",
       "    <tr>\n",
       "      <th>1</th>\n",
       "      <td>0.409483</td>\n",
       "      <td>0.696543</td>\n",
       "      <td>0.737459</td>\n",
       "      <td>0.716377</td>\n",
       "      <td>0.675361</td>\n",
       "      <td>0.688551</td>\n",
       "      <td>0.643520</td>\n",
       "      <td>0.568759</td>\n",
       "      <td>0.615236</td>\n",
       "      <td>0.646371</td>\n",
       "      <td>...</td>\n",
       "      <td>1.416141e-03</td>\n",
       "      <td>1.533040e-03</td>\n",
       "      <td>1.485808e-03</td>\n",
       "      <td>1.595385e-03</td>\n",
       "      <td>1.513009e-03</td>\n",
       "      <td>1.448796e-03</td>\n",
       "      <td>0.001517</td>\n",
       "      <td>0.001438</td>\n",
       "      <td>1.484221e-03</td>\n",
       "      <td>neutral</td>\n",
       "    </tr>\n",
       "    <tr>\n",
       "      <th>2</th>\n",
       "      <td>0.188241</td>\n",
       "      <td>0.389092</td>\n",
       "      <td>0.457344</td>\n",
       "      <td>0.515946</td>\n",
       "      <td>0.423333</td>\n",
       "      <td>0.429246</td>\n",
       "      <td>0.495235</td>\n",
       "      <td>0.509360</td>\n",
       "      <td>0.539101</td>\n",
       "      <td>0.559584</td>\n",
       "      <td>...</td>\n",
       "      <td>8.576334e-07</td>\n",
       "      <td>9.576414e-07</td>\n",
       "      <td>7.733593e-07</td>\n",
       "      <td>5.233101e-07</td>\n",
       "      <td>3.593214e-07</td>\n",
       "      <td>9.264193e-07</td>\n",
       "      <td>0.000002</td>\n",
       "      <td>0.000001</td>\n",
       "      <td>7.753441e-08</td>\n",
       "      <td>neutral</td>\n",
       "    </tr>\n",
       "    <tr>\n",
       "      <th>3</th>\n",
       "      <td>0.293566</td>\n",
       "      <td>0.530008</td>\n",
       "      <td>0.564283</td>\n",
       "      <td>0.497886</td>\n",
       "      <td>0.427233</td>\n",
       "      <td>0.463398</td>\n",
       "      <td>0.497681</td>\n",
       "      <td>0.426065</td>\n",
       "      <td>0.489033</td>\n",
       "      <td>0.524762</td>\n",
       "      <td>...</td>\n",
       "      <td>6.984504e-06</td>\n",
       "      <td>7.034949e-06</td>\n",
       "      <td>6.654922e-06</td>\n",
       "      <td>6.979548e-06</td>\n",
       "      <td>1.214236e-05</td>\n",
       "      <td>9.640184e-06</td>\n",
       "      <td>0.000011</td>\n",
       "      <td>0.000006</td>\n",
       "      <td>4.254087e-07</td>\n",
       "      <td>neutral</td>\n",
       "    </tr>\n",
       "    <tr>\n",
       "      <th>4</th>\n",
       "      <td>0.408384</td>\n",
       "      <td>0.718975</td>\n",
       "      <td>0.721944</td>\n",
       "      <td>0.688609</td>\n",
       "      <td>0.673488</td>\n",
       "      <td>0.683200</td>\n",
       "      <td>0.580780</td>\n",
       "      <td>0.558377</td>\n",
       "      <td>0.600636</td>\n",
       "      <td>0.657417</td>\n",
       "      <td>...</td>\n",
       "      <td>1.734800e-03</td>\n",
       "      <td>1.678761e-03</td>\n",
       "      <td>1.719818e-03</td>\n",
       "      <td>1.771915e-03</td>\n",
       "      <td>1.858707e-03</td>\n",
       "      <td>1.841170e-03</td>\n",
       "      <td>0.001712</td>\n",
       "      <td>0.001760</td>\n",
       "      <td>1.801234e-03</td>\n",
       "      <td>neutral</td>\n",
       "    </tr>\n",
       "    <tr>\n",
       "      <th>...</th>\n",
       "      <td>...</td>\n",
       "      <td>...</td>\n",
       "      <td>...</td>\n",
       "      <td>...</td>\n",
       "      <td>...</td>\n",
       "      <td>...</td>\n",
       "      <td>...</td>\n",
       "      <td>...</td>\n",
       "      <td>...</td>\n",
       "      <td>...</td>\n",
       "      <td>...</td>\n",
       "      <td>...</td>\n",
       "      <td>...</td>\n",
       "      <td>...</td>\n",
       "      <td>...</td>\n",
       "      <td>...</td>\n",
       "      <td>...</td>\n",
       "      <td>...</td>\n",
       "      <td>...</td>\n",
       "      <td>...</td>\n",
       "      <td>...</td>\n",
       "    </tr>\n",
       "    <tr>\n",
       "      <th>4315</th>\n",
       "      <td>0.414171</td>\n",
       "      <td>0.535965</td>\n",
       "      <td>0.568897</td>\n",
       "      <td>0.608863</td>\n",
       "      <td>0.613769</td>\n",
       "      <td>0.652480</td>\n",
       "      <td>0.691192</td>\n",
       "      <td>0.605035</td>\n",
       "      <td>0.559414</td>\n",
       "      <td>0.494037</td>\n",
       "      <td>...</td>\n",
       "      <td>5.476311e-02</td>\n",
       "      <td>5.898735e-02</td>\n",
       "      <td>5.748095e-02</td>\n",
       "      <td>5.562991e-02</td>\n",
       "      <td>5.684891e-02</td>\n",
       "      <td>5.740645e-02</td>\n",
       "      <td>0.057535</td>\n",
       "      <td>0.052600</td>\n",
       "      <td>4.802062e-02</td>\n",
       "      <td>surprise</td>\n",
       "    </tr>\n",
       "    <tr>\n",
       "      <th>4316</th>\n",
       "      <td>0.204272</td>\n",
       "      <td>0.387047</td>\n",
       "      <td>0.351958</td>\n",
       "      <td>0.399655</td>\n",
       "      <td>0.392837</td>\n",
       "      <td>0.347665</td>\n",
       "      <td>0.405136</td>\n",
       "      <td>0.457989</td>\n",
       "      <td>0.396946</td>\n",
       "      <td>0.324395</td>\n",
       "      <td>...</td>\n",
       "      <td>1.664630e-03</td>\n",
       "      <td>1.419731e-03</td>\n",
       "      <td>1.308418e-03</td>\n",
       "      <td>1.599555e-03</td>\n",
       "      <td>1.407549e-03</td>\n",
       "      <td>1.479881e-03</td>\n",
       "      <td>0.001353</td>\n",
       "      <td>0.000680</td>\n",
       "      <td>7.661307e-05</td>\n",
       "      <td>surprise</td>\n",
       "    </tr>\n",
       "    <tr>\n",
       "      <th>4317</th>\n",
       "      <td>0.219971</td>\n",
       "      <td>0.507571</td>\n",
       "      <td>0.460313</td>\n",
       "      <td>0.409703</td>\n",
       "      <td>0.414398</td>\n",
       "      <td>0.382926</td>\n",
       "      <td>0.417438</td>\n",
       "      <td>0.437294</td>\n",
       "      <td>0.486752</td>\n",
       "      <td>0.466801</td>\n",
       "      <td>...</td>\n",
       "      <td>5.655021e-03</td>\n",
       "      <td>4.140741e-03</td>\n",
       "      <td>3.525571e-03</td>\n",
       "      <td>2.786390e-03</td>\n",
       "      <td>2.527809e-03</td>\n",
       "      <td>2.580479e-03</td>\n",
       "      <td>0.002437</td>\n",
       "      <td>0.001115</td>\n",
       "      <td>9.113738e-05</td>\n",
       "      <td>surprise</td>\n",
       "    </tr>\n",
       "    <tr>\n",
       "      <th>4318</th>\n",
       "      <td>0.419153</td>\n",
       "      <td>0.608149</td>\n",
       "      <td>0.623523</td>\n",
       "      <td>0.640360</td>\n",
       "      <td>0.621674</td>\n",
       "      <td>0.633671</td>\n",
       "      <td>0.596322</td>\n",
       "      <td>0.584005</td>\n",
       "      <td>0.610167</td>\n",
       "      <td>0.605340</td>\n",
       "      <td>...</td>\n",
       "      <td>5.544840e-02</td>\n",
       "      <td>5.034181e-02</td>\n",
       "      <td>5.131820e-02</td>\n",
       "      <td>4.865410e-02</td>\n",
       "      <td>4.621587e-02</td>\n",
       "      <td>4.826154e-02</td>\n",
       "      <td>0.053640</td>\n",
       "      <td>0.048019</td>\n",
       "      <td>4.894923e-02</td>\n",
       "      <td>surprise</td>\n",
       "    </tr>\n",
       "    <tr>\n",
       "      <th>4319</th>\n",
       "      <td>0.190932</td>\n",
       "      <td>0.466040</td>\n",
       "      <td>0.416327</td>\n",
       "      <td>0.401308</td>\n",
       "      <td>0.390699</td>\n",
       "      <td>0.345925</td>\n",
       "      <td>0.387920</td>\n",
       "      <td>0.431808</td>\n",
       "      <td>0.518085</td>\n",
       "      <td>0.485258</td>\n",
       "      <td>...</td>\n",
       "      <td>1.004710e-03</td>\n",
       "      <td>1.118599e-03</td>\n",
       "      <td>1.280760e-03</td>\n",
       "      <td>7.838724e-04</td>\n",
       "      <td>5.846546e-04</td>\n",
       "      <td>4.231033e-04</td>\n",
       "      <td>0.000531</td>\n",
       "      <td>0.000358</td>\n",
       "      <td>2.698979e-05</td>\n",
       "      <td>surprise</td>\n",
       "    </tr>\n",
       "  </tbody>\n",
       "</table>\n",
       "<p>4320 rows × 163 columns</p>\n",
       "</div>"
      ],
      "text/plain": [
       "             0         1         2         3         4         5         6  \\\n",
       "0     0.321275  0.577371  0.591136  0.492400  0.461673  0.500125  0.495526   \n",
       "1     0.409483  0.696543  0.737459  0.716377  0.675361  0.688551  0.643520   \n",
       "2     0.188241  0.389092  0.457344  0.515946  0.423333  0.429246  0.495235   \n",
       "3     0.293566  0.530008  0.564283  0.497886  0.427233  0.463398  0.497681   \n",
       "4     0.408384  0.718975  0.721944  0.688609  0.673488  0.683200  0.580780   \n",
       "...        ...       ...       ...       ...       ...       ...       ...   \n",
       "4315  0.414171  0.535965  0.568897  0.608863  0.613769  0.652480  0.691192   \n",
       "4316  0.204272  0.387047  0.351958  0.399655  0.392837  0.347665  0.405136   \n",
       "4317  0.219971  0.507571  0.460313  0.409703  0.414398  0.382926  0.417438   \n",
       "4318  0.419153  0.608149  0.623523  0.640360  0.621674  0.633671  0.596322   \n",
       "4319  0.190932  0.466040  0.416327  0.401308  0.390699  0.345925  0.387920   \n",
       "\n",
       "             7         8         9  ...           153           154  \\\n",
       "0     0.515726  0.584809  0.624386  ...  4.310903e-06  3.291511e-06   \n",
       "1     0.568759  0.615236  0.646371  ...  1.416141e-03  1.533040e-03   \n",
       "2     0.509360  0.539101  0.559584  ...  8.576334e-07  9.576414e-07   \n",
       "3     0.426065  0.489033  0.524762  ...  6.984504e-06  7.034949e-06   \n",
       "4     0.558377  0.600636  0.657417  ...  1.734800e-03  1.678761e-03   \n",
       "...        ...       ...       ...  ...           ...           ...   \n",
       "4315  0.605035  0.559414  0.494037  ...  5.476311e-02  5.898735e-02   \n",
       "4316  0.457989  0.396946  0.324395  ...  1.664630e-03  1.419731e-03   \n",
       "4317  0.437294  0.486752  0.466801  ...  5.655021e-03  4.140741e-03   \n",
       "4318  0.584005  0.610167  0.605340  ...  5.544840e-02  5.034181e-02   \n",
       "4319  0.431808  0.518085  0.485258  ...  1.004710e-03  1.118599e-03   \n",
       "\n",
       "               155           156           157           158       159  \\\n",
       "0     2.148075e-06  2.279739e-06  5.116493e-06  8.190282e-06  0.000007   \n",
       "1     1.485808e-03  1.595385e-03  1.513009e-03  1.448796e-03  0.001517   \n",
       "2     7.733593e-07  5.233101e-07  3.593214e-07  9.264193e-07  0.000002   \n",
       "3     6.654922e-06  6.979548e-06  1.214236e-05  9.640184e-06  0.000011   \n",
       "4     1.719818e-03  1.771915e-03  1.858707e-03  1.841170e-03  0.001712   \n",
       "...            ...           ...           ...           ...       ...   \n",
       "4315  5.748095e-02  5.562991e-02  5.684891e-02  5.740645e-02  0.057535   \n",
       "4316  1.308418e-03  1.599555e-03  1.407549e-03  1.479881e-03  0.001353   \n",
       "4317  3.525571e-03  2.786390e-03  2.527809e-03  2.580479e-03  0.002437   \n",
       "4318  5.131820e-02  4.865410e-02  4.621587e-02  4.826154e-02  0.053640   \n",
       "4319  1.280760e-03  7.838724e-04  5.846546e-04  4.231033e-04  0.000531   \n",
       "\n",
       "           160           161    labels  \n",
       "0     0.000005  4.245834e-07   neutral  \n",
       "1     0.001438  1.484221e-03   neutral  \n",
       "2     0.000001  7.753441e-08   neutral  \n",
       "3     0.000006  4.254087e-07   neutral  \n",
       "4     0.001760  1.801234e-03   neutral  \n",
       "...        ...           ...       ...  \n",
       "4315  0.052600  4.802062e-02  surprise  \n",
       "4316  0.000680  7.661307e-05  surprise  \n",
       "4317  0.001115  9.113738e-05  surprise  \n",
       "4318  0.048019  4.894923e-02  surprise  \n",
       "4319  0.000358  2.698979e-05  surprise  \n",
       "\n",
       "[4320 rows x 163 columns]"
      ]
     },
     "execution_count": 92,
     "metadata": {},
     "output_type": "execute_result"
    }
   ],
   "source": [
    "features"
   ]
  },
  {
   "cell_type": "markdown",
   "metadata": {},
   "source": [
    "### 2.1. Data Preparation (Preparação dos Dados)"
   ]
  },
  {
   "cell_type": "code",
   "execution_count": 94,
   "metadata": {},
   "outputs": [],
   "source": [
    "X = features.iloc[:, :-1].values\n",
    "Y = features['labels'].values"
   ]
  },
  {
   "cell_type": "code",
   "execution_count": 95,
   "metadata": {},
   "outputs": [],
   "source": [
    "# Use OneHotEncoder para transformar o Y em uma representação binária categórica, necessária para problemas de classificação multiclasse\n",
    "Y = np.array(Y).reshape(-1, 1)\n",
    "encoder = OneHotEncoder(sparse_output=False)\n",
    "Y = encoder.fit_transform(Y)"
   ]
  },
  {
   "cell_type": "code",
   "execution_count": 96,
   "metadata": {},
   "outputs": [],
   "source": [
    "# Use train_test_split do scikit-learn para dividir X e Y em conjuntos de treino e teste\n",
    "x_train, x_test, y_train, y_test = train_test_split(X, Y, test_size=0.25)"
   ]
  },
  {
   "cell_type": "code",
   "execution_count": 97,
   "metadata": {},
   "outputs": [
    {
     "name": "stdout",
     "output_type": "stream",
     "text": [
      "(3240, 162) (3240, 8) (1080, 162) (1080, 8)\n"
     ]
    }
   ],
   "source": [
    "print(x_train.shape, y_train.shape, x_test.shape, y_test.shape)"
   ]
  },
  {
   "cell_type": "code",
   "execution_count": 98,
   "metadata": {},
   "outputs": [],
   "source": [
    "# Utilize StandardScaler do sklearn para normalizar as características de X\n",
    "scaler = StandardScaler()\n",
    "scaler.fit(x_train)\n",
    "x_train = scaler.transform(x_train)\n",
    "x_test = scaler.transform(x_test)"
   ]
  },
  {
   "cell_type": "code",
   "execution_count": 99,
   "metadata": {},
   "outputs": [
    {
     "data": {
      "text/plain": [
       "((3240, 162, 1), (3240, 8), (1080, 162, 1), (1080, 8))"
      ]
     },
     "execution_count": 99,
     "metadata": {},
     "output_type": "execute_result"
    }
   ],
   "source": [
    "# Rode essa célula para deixar as dimensões certinhas com o modelo que iremos criar.\n",
    "x_train = np.expand_dims(x_train, axis=2)\n",
    "x_test = np.expand_dims(x_test, axis=2)\n",
    "x_train.shape, y_train.shape, x_test.shape, y_test.shape"
   ]
  },
  {
   "cell_type": "markdown",
   "metadata": {},
   "source": [
    "### 3. Model Training (Modelling)"
   ]
  },
  {
   "cell_type": "markdown",
   "metadata": {},
   "source": [
    "#### O modelo que vamos usar é uma rede neural convolucional (CNN) projetada para processar os dados extraídos dos arquivos de áudio. Essa estrutura é ideal para capturar padrões espectrais, como variações de tom e intensidade. A CNN é composta por:\n",
    "- Camadas Convolucionais (Conv1D): Extraem características do espectro do áudio.\n",
    "- Camadas de Pooling (MaxPooling1D): Reduzem a dimensionalidade e capturam as informações mais relevantes.\n",
    "- Dropout: Ajuda a evitar overfitting.\n",
    "- Camada Flatten: Transforma os mapas de features em um vetor de entrada para a camada totalmente conectada.\n",
    "- Camadas Densas (Dense): Realizam a classificação final usando a função de ativação softmax."
   ]
  },
  {
   "cell_type": "code",
   "execution_count": 100,
   "metadata": {},
   "outputs": [
    {
     "data": {
      "text/html": [
       "<pre style=\"white-space:pre;overflow-x:auto;line-height:normal;font-family:Menlo,'DejaVu Sans Mono',consolas,'Courier New',monospace\"><span style=\"font-weight: bold\">Model: \"sequential_3\"</span>\n",
       "</pre>\n"
      ],
      "text/plain": [
       "\u001b[1mModel: \"sequential_3\"\u001b[0m\n"
      ]
     },
     "metadata": {},
     "output_type": "display_data"
    },
    {
     "data": {
      "text/html": [
       "<pre style=\"white-space:pre;overflow-x:auto;line-height:normal;font-family:Menlo,'DejaVu Sans Mono',consolas,'Courier New',monospace\">┏━━━━━━━━━━━━━━━━━━━━━━━━━━━━━━━━━┳━━━━━━━━━━━━━━━━━━━━━━━━┳━━━━━━━━━━━━━━━┓\n",
       "┃<span style=\"font-weight: bold\"> Layer (type)                    </span>┃<span style=\"font-weight: bold\"> Output Shape           </span>┃<span style=\"font-weight: bold\">       Param # </span>┃\n",
       "┡━━━━━━━━━━━━━━━━━━━━━━━━━━━━━━━━━╇━━━━━━━━━━━━━━━━━━━━━━━━╇━━━━━━━━━━━━━━━┩\n",
       "│ conv1d_12 (<span style=\"color: #0087ff; text-decoration-color: #0087ff\">Conv1D</span>)              │ (<span style=\"color: #00d7ff; text-decoration-color: #00d7ff\">None</span>, <span style=\"color: #00af00; text-decoration-color: #00af00\">162</span>, <span style=\"color: #00af00; text-decoration-color: #00af00\">256</span>)       │         <span style=\"color: #00af00; text-decoration-color: #00af00\">1,536</span> │\n",
       "├─────────────────────────────────┼────────────────────────┼───────────────┤\n",
       "│ max_pooling1d_12 (<span style=\"color: #0087ff; text-decoration-color: #0087ff\">MaxPooling1D</span>) │ (<span style=\"color: #00d7ff; text-decoration-color: #00d7ff\">None</span>, <span style=\"color: #00af00; text-decoration-color: #00af00\">81</span>, <span style=\"color: #00af00; text-decoration-color: #00af00\">256</span>)        │             <span style=\"color: #00af00; text-decoration-color: #00af00\">0</span> │\n",
       "├─────────────────────────────────┼────────────────────────┼───────────────┤\n",
       "│ conv1d_13 (<span style=\"color: #0087ff; text-decoration-color: #0087ff\">Conv1D</span>)              │ (<span style=\"color: #00d7ff; text-decoration-color: #00d7ff\">None</span>, <span style=\"color: #00af00; text-decoration-color: #00af00\">81</span>, <span style=\"color: #00af00; text-decoration-color: #00af00\">256</span>)        │       <span style=\"color: #00af00; text-decoration-color: #00af00\">327,936</span> │\n",
       "├─────────────────────────────────┼────────────────────────┼───────────────┤\n",
       "│ max_pooling1d_13 (<span style=\"color: #0087ff; text-decoration-color: #0087ff\">MaxPooling1D</span>) │ (<span style=\"color: #00d7ff; text-decoration-color: #00d7ff\">None</span>, <span style=\"color: #00af00; text-decoration-color: #00af00\">41</span>, <span style=\"color: #00af00; text-decoration-color: #00af00\">256</span>)        │             <span style=\"color: #00af00; text-decoration-color: #00af00\">0</span> │\n",
       "├─────────────────────────────────┼────────────────────────┼───────────────┤\n",
       "│ conv1d_14 (<span style=\"color: #0087ff; text-decoration-color: #0087ff\">Conv1D</span>)              │ (<span style=\"color: #00d7ff; text-decoration-color: #00d7ff\">None</span>, <span style=\"color: #00af00; text-decoration-color: #00af00\">41</span>, <span style=\"color: #00af00; text-decoration-color: #00af00\">128</span>)        │       <span style=\"color: #00af00; text-decoration-color: #00af00\">163,968</span> │\n",
       "├─────────────────────────────────┼────────────────────────┼───────────────┤\n",
       "│ max_pooling1d_14 (<span style=\"color: #0087ff; text-decoration-color: #0087ff\">MaxPooling1D</span>) │ (<span style=\"color: #00d7ff; text-decoration-color: #00d7ff\">None</span>, <span style=\"color: #00af00; text-decoration-color: #00af00\">21</span>, <span style=\"color: #00af00; text-decoration-color: #00af00\">128</span>)        │             <span style=\"color: #00af00; text-decoration-color: #00af00\">0</span> │\n",
       "├─────────────────────────────────┼────────────────────────┼───────────────┤\n",
       "│ dropout_6 (<span style=\"color: #0087ff; text-decoration-color: #0087ff\">Dropout</span>)             │ (<span style=\"color: #00d7ff; text-decoration-color: #00d7ff\">None</span>, <span style=\"color: #00af00; text-decoration-color: #00af00\">21</span>, <span style=\"color: #00af00; text-decoration-color: #00af00\">128</span>)        │             <span style=\"color: #00af00; text-decoration-color: #00af00\">0</span> │\n",
       "├─────────────────────────────────┼────────────────────────┼───────────────┤\n",
       "│ conv1d_15 (<span style=\"color: #0087ff; text-decoration-color: #0087ff\">Conv1D</span>)              │ (<span style=\"color: #00d7ff; text-decoration-color: #00d7ff\">None</span>, <span style=\"color: #00af00; text-decoration-color: #00af00\">21</span>, <span style=\"color: #00af00; text-decoration-color: #00af00\">64</span>)         │        <span style=\"color: #00af00; text-decoration-color: #00af00\">41,024</span> │\n",
       "├─────────────────────────────────┼────────────────────────┼───────────────┤\n",
       "│ max_pooling1d_15 (<span style=\"color: #0087ff; text-decoration-color: #0087ff\">MaxPooling1D</span>) │ (<span style=\"color: #00d7ff; text-decoration-color: #00d7ff\">None</span>, <span style=\"color: #00af00; text-decoration-color: #00af00\">11</span>, <span style=\"color: #00af00; text-decoration-color: #00af00\">64</span>)         │             <span style=\"color: #00af00; text-decoration-color: #00af00\">0</span> │\n",
       "├─────────────────────────────────┼────────────────────────┼───────────────┤\n",
       "│ flatten_3 (<span style=\"color: #0087ff; text-decoration-color: #0087ff\">Flatten</span>)             │ (<span style=\"color: #00d7ff; text-decoration-color: #00d7ff\">None</span>, <span style=\"color: #00af00; text-decoration-color: #00af00\">704</span>)            │             <span style=\"color: #00af00; text-decoration-color: #00af00\">0</span> │\n",
       "├─────────────────────────────────┼────────────────────────┼───────────────┤\n",
       "│ dense_6 (<span style=\"color: #0087ff; text-decoration-color: #0087ff\">Dense</span>)                 │ (<span style=\"color: #00d7ff; text-decoration-color: #00d7ff\">None</span>, <span style=\"color: #00af00; text-decoration-color: #00af00\">32</span>)             │        <span style=\"color: #00af00; text-decoration-color: #00af00\">22,560</span> │\n",
       "├─────────────────────────────────┼────────────────────────┼───────────────┤\n",
       "│ dropout_7 (<span style=\"color: #0087ff; text-decoration-color: #0087ff\">Dropout</span>)             │ (<span style=\"color: #00d7ff; text-decoration-color: #00d7ff\">None</span>, <span style=\"color: #00af00; text-decoration-color: #00af00\">32</span>)             │             <span style=\"color: #00af00; text-decoration-color: #00af00\">0</span> │\n",
       "├─────────────────────────────────┼────────────────────────┼───────────────┤\n",
       "│ dense_7 (<span style=\"color: #0087ff; text-decoration-color: #0087ff\">Dense</span>)                 │ (<span style=\"color: #00d7ff; text-decoration-color: #00d7ff\">None</span>, <span style=\"color: #00af00; text-decoration-color: #00af00\">8</span>)              │           <span style=\"color: #00af00; text-decoration-color: #00af00\">264</span> │\n",
       "└─────────────────────────────────┴────────────────────────┴───────────────┘\n",
       "</pre>\n"
      ],
      "text/plain": [
       "┏━━━━━━━━━━━━━━━━━━━━━━━━━━━━━━━━━┳━━━━━━━━━━━━━━━━━━━━━━━━┳━━━━━━━━━━━━━━━┓\n",
       "┃\u001b[1m \u001b[0m\u001b[1mLayer (type)                   \u001b[0m\u001b[1m \u001b[0m┃\u001b[1m \u001b[0m\u001b[1mOutput Shape          \u001b[0m\u001b[1m \u001b[0m┃\u001b[1m \u001b[0m\u001b[1m      Param #\u001b[0m\u001b[1m \u001b[0m┃\n",
       "┡━━━━━━━━━━━━━━━━━━━━━━━━━━━━━━━━━╇━━━━━━━━━━━━━━━━━━━━━━━━╇━━━━━━━━━━━━━━━┩\n",
       "│ conv1d_12 (\u001b[38;5;33mConv1D\u001b[0m)              │ (\u001b[38;5;45mNone\u001b[0m, \u001b[38;5;34m162\u001b[0m, \u001b[38;5;34m256\u001b[0m)       │         \u001b[38;5;34m1,536\u001b[0m │\n",
       "├─────────────────────────────────┼────────────────────────┼───────────────┤\n",
       "│ max_pooling1d_12 (\u001b[38;5;33mMaxPooling1D\u001b[0m) │ (\u001b[38;5;45mNone\u001b[0m, \u001b[38;5;34m81\u001b[0m, \u001b[38;5;34m256\u001b[0m)        │             \u001b[38;5;34m0\u001b[0m │\n",
       "├─────────────────────────────────┼────────────────────────┼───────────────┤\n",
       "│ conv1d_13 (\u001b[38;5;33mConv1D\u001b[0m)              │ (\u001b[38;5;45mNone\u001b[0m, \u001b[38;5;34m81\u001b[0m, \u001b[38;5;34m256\u001b[0m)        │       \u001b[38;5;34m327,936\u001b[0m │\n",
       "├─────────────────────────────────┼────────────────────────┼───────────────┤\n",
       "│ max_pooling1d_13 (\u001b[38;5;33mMaxPooling1D\u001b[0m) │ (\u001b[38;5;45mNone\u001b[0m, \u001b[38;5;34m41\u001b[0m, \u001b[38;5;34m256\u001b[0m)        │             \u001b[38;5;34m0\u001b[0m │\n",
       "├─────────────────────────────────┼────────────────────────┼───────────────┤\n",
       "│ conv1d_14 (\u001b[38;5;33mConv1D\u001b[0m)              │ (\u001b[38;5;45mNone\u001b[0m, \u001b[38;5;34m41\u001b[0m, \u001b[38;5;34m128\u001b[0m)        │       \u001b[38;5;34m163,968\u001b[0m │\n",
       "├─────────────────────────────────┼────────────────────────┼───────────────┤\n",
       "│ max_pooling1d_14 (\u001b[38;5;33mMaxPooling1D\u001b[0m) │ (\u001b[38;5;45mNone\u001b[0m, \u001b[38;5;34m21\u001b[0m, \u001b[38;5;34m128\u001b[0m)        │             \u001b[38;5;34m0\u001b[0m │\n",
       "├─────────────────────────────────┼────────────────────────┼───────────────┤\n",
       "│ dropout_6 (\u001b[38;5;33mDropout\u001b[0m)             │ (\u001b[38;5;45mNone\u001b[0m, \u001b[38;5;34m21\u001b[0m, \u001b[38;5;34m128\u001b[0m)        │             \u001b[38;5;34m0\u001b[0m │\n",
       "├─────────────────────────────────┼────────────────────────┼───────────────┤\n",
       "│ conv1d_15 (\u001b[38;5;33mConv1D\u001b[0m)              │ (\u001b[38;5;45mNone\u001b[0m, \u001b[38;5;34m21\u001b[0m, \u001b[38;5;34m64\u001b[0m)         │        \u001b[38;5;34m41,024\u001b[0m │\n",
       "├─────────────────────────────────┼────────────────────────┼───────────────┤\n",
       "│ max_pooling1d_15 (\u001b[38;5;33mMaxPooling1D\u001b[0m) │ (\u001b[38;5;45mNone\u001b[0m, \u001b[38;5;34m11\u001b[0m, \u001b[38;5;34m64\u001b[0m)         │             \u001b[38;5;34m0\u001b[0m │\n",
       "├─────────────────────────────────┼────────────────────────┼───────────────┤\n",
       "│ flatten_3 (\u001b[38;5;33mFlatten\u001b[0m)             │ (\u001b[38;5;45mNone\u001b[0m, \u001b[38;5;34m704\u001b[0m)            │             \u001b[38;5;34m0\u001b[0m │\n",
       "├─────────────────────────────────┼────────────────────────┼───────────────┤\n",
       "│ dense_6 (\u001b[38;5;33mDense\u001b[0m)                 │ (\u001b[38;5;45mNone\u001b[0m, \u001b[38;5;34m32\u001b[0m)             │        \u001b[38;5;34m22,560\u001b[0m │\n",
       "├─────────────────────────────────┼────────────────────────┼───────────────┤\n",
       "│ dropout_7 (\u001b[38;5;33mDropout\u001b[0m)             │ (\u001b[38;5;45mNone\u001b[0m, \u001b[38;5;34m32\u001b[0m)             │             \u001b[38;5;34m0\u001b[0m │\n",
       "├─────────────────────────────────┼────────────────────────┼───────────────┤\n",
       "│ dense_7 (\u001b[38;5;33mDense\u001b[0m)                 │ (\u001b[38;5;45mNone\u001b[0m, \u001b[38;5;34m8\u001b[0m)              │           \u001b[38;5;34m264\u001b[0m │\n",
       "└─────────────────────────────────┴────────────────────────┴───────────────┘\n"
      ]
     },
     "metadata": {},
     "output_type": "display_data"
    },
    {
     "data": {
      "text/html": [
       "<pre style=\"white-space:pre;overflow-x:auto;line-height:normal;font-family:Menlo,'DejaVu Sans Mono',consolas,'Courier New',monospace\"><span style=\"font-weight: bold\"> Total params: </span><span style=\"color: #00af00; text-decoration-color: #00af00\">557,288</span> (2.13 MB)\n",
       "</pre>\n"
      ],
      "text/plain": [
       "\u001b[1m Total params: \u001b[0m\u001b[38;5;34m557,288\u001b[0m (2.13 MB)\n"
      ]
     },
     "metadata": {},
     "output_type": "display_data"
    },
    {
     "data": {
      "text/html": [
       "<pre style=\"white-space:pre;overflow-x:auto;line-height:normal;font-family:Menlo,'DejaVu Sans Mono',consolas,'Courier New',monospace\"><span style=\"font-weight: bold\"> Trainable params: </span><span style=\"color: #00af00; text-decoration-color: #00af00\">557,288</span> (2.13 MB)\n",
       "</pre>\n"
      ],
      "text/plain": [
       "\u001b[1m Trainable params: \u001b[0m\u001b[38;5;34m557,288\u001b[0m (2.13 MB)\n"
      ]
     },
     "metadata": {},
     "output_type": "display_data"
    },
    {
     "data": {
      "text/html": [
       "<pre style=\"white-space:pre;overflow-x:auto;line-height:normal;font-family:Menlo,'DejaVu Sans Mono',consolas,'Courier New',monospace\"><span style=\"font-weight: bold\"> Non-trainable params: </span><span style=\"color: #00af00; text-decoration-color: #00af00\">0</span> (0.00 B)\n",
       "</pre>\n"
      ],
      "text/plain": [
       "\u001b[1m Non-trainable params: \u001b[0m\u001b[38;5;34m0\u001b[0m (0.00 B)\n"
      ]
     },
     "metadata": {},
     "output_type": "display_data"
    }
   ],
   "source": [
    "# Dica: você pode olhar a documentação e ir seguindo o passo a passo arquitetônico para criar o modelo.\n",
    "\n",
    "# Passo 1: Use Sequential() para criar o modelo como um contêiner linear.\n",
    "model = Sequential()\n",
    "\n",
    "# Passo 2: Adicione uma camada Conv1D com 256 filtros, kernel_size=5, strides=1, padding='same' e função de ativação 'relu'.\n",
    "model.add(Conv1D(256, kernel_size=5, strides=1, padding='same', activation='relu', input_shape=(162, 1)))\n",
    "\n",
    "# Passo 3: Siga com uma camada MaxPooling1D com pool_size=5, strides=2, padding='same'.\n",
    "model.add(MaxPooling1D(pool_size=5, strides=2, padding='same'))\n",
    "\n",
    "# Passo 4: Adicione mais uma camada Conv1D com 256 filtros, kernel_size=5, strides=1, padding='same' e função de ativação 'relu'.\n",
    "model.add(Conv1D(256, kernel_size=5, strides=1, padding='same', activation='relu'))\n",
    "\n",
    "# Passo 5: Adicione mais uma camada MaxPooling1D com pool_size=5, strides=2, padding='same'.\n",
    "model.add(MaxPooling1D(pool_size=5, strides=2, padding='same'))\n",
    "\n",
    "# Passo 6: Adicione mais uma camada Conv1D com 128 filtros, kernel_size=5, strides=1, padding='same' e função de ativação 'relu'.\n",
    "model.add(Conv1D(128, kernel_size=5, strides=1, padding='same', activation='relu'))\n",
    "\n",
    "# Passo 7: Adicione mais uma camada MaxPooling1D com pool_size=5, strides=2, padding='same'.\n",
    "model.add(MaxPooling1D(pool_size=5, strides=2, padding='same'))\n",
    "\n",
    "# Passo 8: Adicione uma camada Dropout com 0.2 de taxa de dropout.\n",
    "model.add(Dropout(0.2))\n",
    "\n",
    "# Passo 9: Adicione mais uma camada Conv1D com 64 filtros, kernel_size=5, strides=1, padding='same' e função de ativação 'relu'.\n",
    "model.add(Conv1D(64, kernel_size=5, strides=1, padding='same', activation='relu'))\n",
    "\n",
    "# Passo 10: Adicione mais uma camada MaxPooling1D com pool_size=5, strides=2, padding='same'.\n",
    "model.add(MaxPooling1D(pool_size=5, strides=2, padding='same'))\n",
    "\n",
    "# Passo 11: Adicione uma camada Flatten.\n",
    "model.add(Flatten())\n",
    "\n",
    "# Passo 12: Adicione uma camada Dense com 32 unidades e função de ativação 'relu'.\n",
    "model.add(Dense(32, activation='relu'))\n",
    "\n",
    "# Passo 13: Adicione uma camada Dropout com 0.3 de taxa de dropout.\n",
    "model.add(Dropout(0.3))\n",
    "\n",
    "# Passo 14: Adicione uma camada Dense com 8 unidades e função de ativação 'softmax'.\n",
    "model.add(Dense(8, activation='softmax'))\n",
    "\n",
    "# Passo 15: Compile o modelo com otimizador 'adam', loss 'categorical_crossentropy' e métrica 'accuracy'.\n",
    "model.compile(loss=keras.losses.categorical_crossentropy, optimizer=keras.optimizers.Adam(),metrics=['accuracy'])\n",
    "\n",
    "# Passo 16: Use model.summary() para visualizar o modelo.\n",
    "model.summary()\n"
   ]
  },
  {
   "cell_type": "markdown",
   "metadata": {},
   "source": [
    "### 3.1. Agora vamos de fato treinar o modelo, siga esses passos: \n",
    "##### 1. Use o callback para Ajustar a Taxa de Aprendizado \n",
    "##### ReduceLROnPlateau: Diminui a taxa de aprendizado quando uma métrica está estagnada.\n",
    "   Parâmetros:\n",
    "   - monitor='loss': Monitora a perda durante o treinamento.\n",
    "   - factor=0.4: Reduz a taxa de aprendizado por este fator.\n",
    "   - patience=2: Número de épocas sem melhora antes da redução.\n",
    "   - min_lr=0.0000001: Limite mínimo para a taxa de aprendizado.\n",
    "             \n",
    "##### 2. Treine o Modelo \n",
    "##### Utilize model.fit para iniciar o treino da rede neural.\n",
    "   Parâmetros:\n",
    "   - x_train, y_train: Conjunto de dados de treino.\n",
    "   - batch_size=64: Número de amostras por atualização de gradiente.\n",
    "   - epochs=50: Número de vezes que o modelo treina em todo o conjunto de dados.\n",
    "   - validation_data=(x_test, y_test): Conjunto de dados para validação durante o treino.\n",
    "   - callbacks=[rlrp]: Lista de callbacks a serem aplicados durante o treino.\n",
    "     "
   ]
  },
  {
   "cell_type": "code",
   "execution_count": 101,
   "metadata": {},
   "outputs": [
    {
     "name": "stdout",
     "output_type": "stream",
     "text": [
      "Epoch 1/50\n",
      "\u001b[1m51/51\u001b[0m \u001b[32m━━━━━━━━━━━━━━━━━━━━\u001b[0m\u001b[37m\u001b[0m \u001b[1m4s\u001b[0m 56ms/step - accuracy: 0.1781 - loss: 2.0163 - val_accuracy: 0.2398 - val_loss: 1.9311 - learning_rate: 0.0010\n",
      "Epoch 2/50\n",
      "\u001b[1m51/51\u001b[0m \u001b[32m━━━━━━━━━━━━━━━━━━━━\u001b[0m\u001b[37m\u001b[0m \u001b[1m3s\u001b[0m 54ms/step - accuracy: 0.2093 - loss: 1.9497 - val_accuracy: 0.2398 - val_loss: 1.8841 - learning_rate: 0.0010\n",
      "Epoch 3/50\n",
      "\u001b[1m51/51\u001b[0m \u001b[32m━━━━━━━━━━━━━━━━━━━━\u001b[0m\u001b[37m\u001b[0m \u001b[1m3s\u001b[0m 54ms/step - accuracy: 0.2278 - loss: 1.9314 - val_accuracy: 0.2463 - val_loss: 1.8745 - learning_rate: 0.0010\n",
      "Epoch 4/50\n",
      "\u001b[1m51/51\u001b[0m \u001b[32m━━━━━━━━━━━━━━━━━━━━\u001b[0m\u001b[37m\u001b[0m \u001b[1m3s\u001b[0m 52ms/step - accuracy: 0.2423 - loss: 1.8984 - val_accuracy: 0.2713 - val_loss: 1.8396 - learning_rate: 0.0010\n",
      "Epoch 5/50\n",
      "\u001b[1m51/51\u001b[0m \u001b[32m━━━━━━━━━━━━━━━━━━━━\u001b[0m\u001b[37m\u001b[0m \u001b[1m3s\u001b[0m 55ms/step - accuracy: 0.2429 - loss: 1.8634 - val_accuracy: 0.2713 - val_loss: 1.8009 - learning_rate: 0.0010\n",
      "Epoch 6/50\n",
      "\u001b[1m51/51\u001b[0m \u001b[32m━━━━━━━━━━━━━━━━━━━━\u001b[0m\u001b[37m\u001b[0m \u001b[1m3s\u001b[0m 54ms/step - accuracy: 0.2698 - loss: 1.8266 - val_accuracy: 0.3185 - val_loss: 1.7858 - learning_rate: 0.0010\n",
      "Epoch 7/50\n",
      "\u001b[1m51/51\u001b[0m \u001b[32m━━━━━━━━━━━━━━━━━━━━\u001b[0m\u001b[37m\u001b[0m \u001b[1m3s\u001b[0m 54ms/step - accuracy: 0.3028 - loss: 1.7915 - val_accuracy: 0.3380 - val_loss: 1.7406 - learning_rate: 0.0010\n",
      "Epoch 8/50\n",
      "\u001b[1m51/51\u001b[0m \u001b[32m━━━━━━━━━━━━━━━━━━━━\u001b[0m\u001b[37m\u001b[0m \u001b[1m3s\u001b[0m 55ms/step - accuracy: 0.3090 - loss: 1.7557 - val_accuracy: 0.3361 - val_loss: 1.6990 - learning_rate: 0.0010\n",
      "Epoch 9/50\n",
      "\u001b[1m51/51\u001b[0m \u001b[32m━━━━━━━━━━━━━━━━━━━━\u001b[0m\u001b[37m\u001b[0m \u001b[1m3s\u001b[0m 56ms/step - accuracy: 0.3164 - loss: 1.7333 - val_accuracy: 0.3815 - val_loss: 1.6685 - learning_rate: 0.0010\n",
      "Epoch 10/50\n",
      "\u001b[1m51/51\u001b[0m \u001b[32m━━━━━━━━━━━━━━━━━━━━\u001b[0m\u001b[37m\u001b[0m \u001b[1m3s\u001b[0m 66ms/step - accuracy: 0.3404 - loss: 1.7107 - val_accuracy: 0.3667 - val_loss: 1.6466 - learning_rate: 0.0010\n",
      "Epoch 11/50\n",
      "\u001b[1m51/51\u001b[0m \u001b[32m━━━━━━━━━━━━━━━━━━━━\u001b[0m\u001b[37m\u001b[0m \u001b[1m3s\u001b[0m 66ms/step - accuracy: 0.3562 - loss: 1.6455 - val_accuracy: 0.3963 - val_loss: 1.6269 - learning_rate: 0.0010\n",
      "Epoch 12/50\n",
      "\u001b[1m51/51\u001b[0m \u001b[32m━━━━━━━━━━━━━━━━━━━━\u001b[0m\u001b[37m\u001b[0m \u001b[1m3s\u001b[0m 67ms/step - accuracy: 0.3731 - loss: 1.6146 - val_accuracy: 0.4259 - val_loss: 1.5559 - learning_rate: 0.0010\n",
      "Epoch 13/50\n",
      "\u001b[1m51/51\u001b[0m \u001b[32m━━━━━━━━━━━━━━━━━━━━\u001b[0m\u001b[37m\u001b[0m \u001b[1m3s\u001b[0m 67ms/step - accuracy: 0.3694 - loss: 1.6058 - val_accuracy: 0.3972 - val_loss: 1.5871 - learning_rate: 0.0010\n",
      "Epoch 14/50\n",
      "\u001b[1m51/51\u001b[0m \u001b[32m━━━━━━━━━━━━━━━━━━━━\u001b[0m\u001b[37m\u001b[0m \u001b[1m3s\u001b[0m 67ms/step - accuracy: 0.3935 - loss: 1.5536 - val_accuracy: 0.4083 - val_loss: 1.5450 - learning_rate: 0.0010\n",
      "Epoch 15/50\n",
      "\u001b[1m51/51\u001b[0m \u001b[32m━━━━━━━━━━━━━━━━━━━━\u001b[0m\u001b[37m\u001b[0m \u001b[1m3s\u001b[0m 67ms/step - accuracy: 0.4074 - loss: 1.5085 - val_accuracy: 0.4296 - val_loss: 1.5320 - learning_rate: 0.0010\n",
      "Epoch 16/50\n",
      "\u001b[1m51/51\u001b[0m \u001b[32m━━━━━━━━━━━━━━━━━━━━\u001b[0m\u001b[37m\u001b[0m \u001b[1m3s\u001b[0m 68ms/step - accuracy: 0.4136 - loss: 1.4950 - val_accuracy: 0.4417 - val_loss: 1.5074 - learning_rate: 0.0010\n",
      "Epoch 17/50\n",
      "\u001b[1m51/51\u001b[0m \u001b[32m━━━━━━━━━━━━━━━━━━━━\u001b[0m\u001b[37m\u001b[0m \u001b[1m3s\u001b[0m 67ms/step - accuracy: 0.4241 - loss: 1.4659 - val_accuracy: 0.4139 - val_loss: 1.5205 - learning_rate: 0.0010\n",
      "Epoch 18/50\n",
      "\u001b[1m51/51\u001b[0m \u001b[32m━━━━━━━━━━━━━━━━━━━━\u001b[0m\u001b[37m\u001b[0m \u001b[1m3s\u001b[0m 66ms/step - accuracy: 0.4410 - loss: 1.4248 - val_accuracy: 0.4620 - val_loss: 1.4316 - learning_rate: 0.0010\n",
      "Epoch 19/50\n",
      "\u001b[1m51/51\u001b[0m \u001b[32m━━━━━━━━━━━━━━━━━━━━\u001b[0m\u001b[37m\u001b[0m \u001b[1m3s\u001b[0m 65ms/step - accuracy: 0.4556 - loss: 1.4036 - val_accuracy: 0.4407 - val_loss: 1.4564 - learning_rate: 0.0010\n",
      "Epoch 20/50\n",
      "\u001b[1m51/51\u001b[0m \u001b[32m━━━━━━━━━━━━━━━━━━━━\u001b[0m\u001b[37m\u001b[0m \u001b[1m4s\u001b[0m 69ms/step - accuracy: 0.4623 - loss: 1.3841 - val_accuracy: 0.4694 - val_loss: 1.4289 - learning_rate: 0.0010\n",
      "Epoch 21/50\n",
      "\u001b[1m51/51\u001b[0m \u001b[32m━━━━━━━━━━━━━━━━━━━━\u001b[0m\u001b[37m\u001b[0m \u001b[1m3s\u001b[0m 66ms/step - accuracy: 0.4843 - loss: 1.3410 - val_accuracy: 0.4278 - val_loss: 1.4616 - learning_rate: 0.0010\n",
      "Epoch 22/50\n",
      "\u001b[1m51/51\u001b[0m \u001b[32m━━━━━━━━━━━━━━━━━━━━\u001b[0m\u001b[37m\u001b[0m \u001b[1m3s\u001b[0m 67ms/step - accuracy: 0.4840 - loss: 1.3203 - val_accuracy: 0.4630 - val_loss: 1.4093 - learning_rate: 0.0010\n",
      "Epoch 23/50\n",
      "\u001b[1m51/51\u001b[0m \u001b[32m━━━━━━━━━━━━━━━━━━━━\u001b[0m\u001b[37m\u001b[0m \u001b[1m3s\u001b[0m 66ms/step - accuracy: 0.5019 - loss: 1.2793 - val_accuracy: 0.4778 - val_loss: 1.4330 - learning_rate: 0.0010\n",
      "Epoch 24/50\n",
      "\u001b[1m51/51\u001b[0m \u001b[32m━━━━━━━━━━━━━━━━━━━━\u001b[0m\u001b[37m\u001b[0m \u001b[1m3s\u001b[0m 67ms/step - accuracy: 0.5204 - loss: 1.2525 - val_accuracy: 0.4676 - val_loss: 1.4633 - learning_rate: 0.0010\n",
      "Epoch 25/50\n",
      "\u001b[1m51/51\u001b[0m \u001b[32m━━━━━━━━━━━━━━━━━━━━\u001b[0m\u001b[37m\u001b[0m \u001b[1m4s\u001b[0m 71ms/step - accuracy: 0.5448 - loss: 1.2091 - val_accuracy: 0.4630 - val_loss: 1.5081 - learning_rate: 0.0010\n",
      "Epoch 26/50\n",
      "\u001b[1m51/51\u001b[0m \u001b[32m━━━━━━━━━━━━━━━━━━━━\u001b[0m\u001b[37m\u001b[0m \u001b[1m5s\u001b[0m 94ms/step - accuracy: 0.5324 - loss: 1.1839 - val_accuracy: 0.4972 - val_loss: 1.3664 - learning_rate: 0.0010\n",
      "Epoch 27/50\n",
      "\u001b[1m51/51\u001b[0m \u001b[32m━━━━━━━━━━━━━━━━━━━━\u001b[0m\u001b[37m\u001b[0m \u001b[1m5s\u001b[0m 92ms/step - accuracy: 0.5605 - loss: 1.1555 - val_accuracy: 0.5093 - val_loss: 1.4062 - learning_rate: 0.0010\n",
      "Epoch 28/50\n",
      "\u001b[1m51/51\u001b[0m \u001b[32m━━━━━━━━━━━━━━━━━━━━\u001b[0m\u001b[37m\u001b[0m \u001b[1m5s\u001b[0m 91ms/step - accuracy: 0.5651 - loss: 1.1293 - val_accuracy: 0.5093 - val_loss: 1.3292 - learning_rate: 0.0010\n",
      "Epoch 29/50\n",
      "\u001b[1m51/51\u001b[0m \u001b[32m━━━━━━━━━━━━━━━━━━━━\u001b[0m\u001b[37m\u001b[0m \u001b[1m5s\u001b[0m 104ms/step - accuracy: 0.5941 - loss: 1.0710 - val_accuracy: 0.5046 - val_loss: 1.3500 - learning_rate: 0.0010\n",
      "Epoch 30/50\n",
      "\u001b[1m51/51\u001b[0m \u001b[32m━━━━━━━━━━━━━━━━━━━━\u001b[0m\u001b[37m\u001b[0m \u001b[1m4s\u001b[0m 82ms/step - accuracy: 0.5818 - loss: 1.0623 - val_accuracy: 0.5148 - val_loss: 1.4120 - learning_rate: 0.0010\n",
      "Epoch 31/50\n",
      "\u001b[1m51/51\u001b[0m \u001b[32m━━━━━━━━━━━━━━━━━━━━\u001b[0m\u001b[37m\u001b[0m \u001b[1m4s\u001b[0m 72ms/step - accuracy: 0.5917 - loss: 1.0685 - val_accuracy: 0.5343 - val_loss: 1.3178 - learning_rate: 0.0010\n",
      "Epoch 32/50\n",
      "\u001b[1m51/51\u001b[0m \u001b[32m━━━━━━━━━━━━━━━━━━━━\u001b[0m\u001b[37m\u001b[0m \u001b[1m3s\u001b[0m 67ms/step - accuracy: 0.6123 - loss: 1.0289 - val_accuracy: 0.5343 - val_loss: 1.3278 - learning_rate: 0.0010\n",
      "Epoch 33/50\n",
      "\u001b[1m51/51\u001b[0m \u001b[32m━━━━━━━━━━━━━━━━━━━━\u001b[0m\u001b[37m\u001b[0m \u001b[1m3s\u001b[0m 68ms/step - accuracy: 0.6148 - loss: 1.0021 - val_accuracy: 0.5167 - val_loss: 1.4177 - learning_rate: 0.0010\n",
      "Epoch 34/50\n",
      "\u001b[1m51/51\u001b[0m \u001b[32m━━━━━━━━━━━━━━━━━━━━\u001b[0m\u001b[37m\u001b[0m \u001b[1m3s\u001b[0m 68ms/step - accuracy: 0.6284 - loss: 0.9769 - val_accuracy: 0.5269 - val_loss: 1.3632 - learning_rate: 0.0010\n",
      "Epoch 35/50\n",
      "\u001b[1m51/51\u001b[0m \u001b[32m━━━━━━━━━━━━━━━━━━━━\u001b[0m\u001b[37m\u001b[0m \u001b[1m4s\u001b[0m 71ms/step - accuracy: 0.6370 - loss: 0.9518 - val_accuracy: 0.5398 - val_loss: 1.3412 - learning_rate: 0.0010\n",
      "Epoch 36/50\n",
      "\u001b[1m51/51\u001b[0m \u001b[32m━━━━━━━━━━━━━━━━━━━━\u001b[0m\u001b[37m\u001b[0m \u001b[1m4s\u001b[0m 69ms/step - accuracy: 0.6410 - loss: 0.9396 - val_accuracy: 0.5380 - val_loss: 1.3344 - learning_rate: 0.0010\n",
      "Epoch 37/50\n",
      "\u001b[1m51/51\u001b[0m \u001b[32m━━━━━━━━━━━━━━━━━━━━\u001b[0m\u001b[37m\u001b[0m \u001b[1m4s\u001b[0m 71ms/step - accuracy: 0.6506 - loss: 0.9175 - val_accuracy: 0.5259 - val_loss: 1.3350 - learning_rate: 0.0010\n",
      "Epoch 38/50\n",
      "\u001b[1m51/51\u001b[0m \u001b[32m━━━━━━━━━━━━━━━━━━━━\u001b[0m\u001b[37m\u001b[0m \u001b[1m4s\u001b[0m 77ms/step - accuracy: 0.6552 - loss: 0.9212 - val_accuracy: 0.5454 - val_loss: 1.3075 - learning_rate: 0.0010\n",
      "Epoch 39/50\n",
      "\u001b[1m51/51\u001b[0m \u001b[32m━━━━━━━━━━━━━━━━━━━━\u001b[0m\u001b[37m\u001b[0m \u001b[1m4s\u001b[0m 74ms/step - accuracy: 0.6812 - loss: 0.8392 - val_accuracy: 0.5593 - val_loss: 1.3099 - learning_rate: 0.0010\n",
      "Epoch 40/50\n",
      "\u001b[1m51/51\u001b[0m \u001b[32m━━━━━━━━━━━━━━━━━━━━\u001b[0m\u001b[37m\u001b[0m \u001b[1m4s\u001b[0m 75ms/step - accuracy: 0.6914 - loss: 0.8182 - val_accuracy: 0.5593 - val_loss: 1.3258 - learning_rate: 0.0010\n",
      "Epoch 41/50\n",
      "\u001b[1m51/51\u001b[0m \u001b[32m━━━━━━━━━━━━━━━━━━━━\u001b[0m\u001b[37m\u001b[0m \u001b[1m4s\u001b[0m 70ms/step - accuracy: 0.6978 - loss: 0.8092 - val_accuracy: 0.5435 - val_loss: 1.3439 - learning_rate: 0.0010\n",
      "Epoch 42/50\n",
      "\u001b[1m51/51\u001b[0m \u001b[32m━━━━━━━━━━━━━━━━━━━━\u001b[0m\u001b[37m\u001b[0m \u001b[1m4s\u001b[0m 69ms/step - accuracy: 0.6790 - loss: 0.8566 - val_accuracy: 0.5583 - val_loss: 1.3191 - learning_rate: 0.0010\n",
      "Epoch 43/50\n",
      "\u001b[1m51/51\u001b[0m \u001b[32m━━━━━━━━━━━━━━━━━━━━\u001b[0m\u001b[37m\u001b[0m \u001b[1m3s\u001b[0m 68ms/step - accuracy: 0.7022 - loss: 0.7979 - val_accuracy: 0.5556 - val_loss: 1.4670 - learning_rate: 0.0010\n",
      "Epoch 44/50\n",
      "\u001b[1m51/51\u001b[0m \u001b[32m━━━━━━━━━━━━━━━━━━━━\u001b[0m\u001b[37m\u001b[0m \u001b[1m4s\u001b[0m 71ms/step - accuracy: 0.7074 - loss: 0.7734 - val_accuracy: 0.5620 - val_loss: 1.4689 - learning_rate: 0.0010\n",
      "Epoch 45/50\n",
      "\u001b[1m51/51\u001b[0m \u001b[32m━━━━━━━━━━━━━━━━━━━━\u001b[0m\u001b[37m\u001b[0m \u001b[1m4s\u001b[0m 69ms/step - accuracy: 0.7259 - loss: 0.7469 - val_accuracy: 0.5694 - val_loss: 1.3933 - learning_rate: 0.0010\n",
      "Epoch 46/50\n",
      "\u001b[1m51/51\u001b[0m \u001b[32m━━━━━━━━━━━━━━━━━━━━\u001b[0m\u001b[37m\u001b[0m \u001b[1m4s\u001b[0m 70ms/step - accuracy: 0.7336 - loss: 0.7344 - val_accuracy: 0.5750 - val_loss: 1.4487 - learning_rate: 0.0010\n",
      "Epoch 47/50\n",
      "\u001b[1m51/51\u001b[0m \u001b[32m━━━━━━━━━━━━━━━━━━━━\u001b[0m\u001b[37m\u001b[0m \u001b[1m4s\u001b[0m 69ms/step - accuracy: 0.7315 - loss: 0.7058 - val_accuracy: 0.5722 - val_loss: 1.5044 - learning_rate: 0.0010\n",
      "Epoch 48/50\n",
      "\u001b[1m51/51\u001b[0m \u001b[32m━━━━━━━━━━━━━━━━━━━━\u001b[0m\u001b[37m\u001b[0m \u001b[1m5s\u001b[0m 65ms/step - accuracy: 0.7315 - loss: 0.7036 - val_accuracy: 0.5435 - val_loss: 1.4594 - learning_rate: 0.0010\n",
      "Epoch 49/50\n",
      "\u001b[1m51/51\u001b[0m \u001b[32m━━━━━━━━━━━━━━━━━━━━\u001b[0m\u001b[37m\u001b[0m \u001b[1m3s\u001b[0m 67ms/step - accuracy: 0.7633 - loss: 0.6311 - val_accuracy: 0.5889 - val_loss: 1.4078 - learning_rate: 1.0000e-04\n",
      "Epoch 50/50\n",
      "\u001b[1m51/51\u001b[0m \u001b[32m━━━━━━━━━━━━━━━━━━━━\u001b[0m\u001b[37m\u001b[0m \u001b[1m3s\u001b[0m 65ms/step - accuracy: 0.7880 - loss: 0.5728 - val_accuracy: 0.5917 - val_loss: 1.4457 - learning_rate: 1.0000e-04\n"
     ]
    }
   ],
   "source": [
    "treinamento = model.fit(x_train, y_train, batch_size=64, epochs=50, validation_data=(x_test, y_test), callbacks=[ReduceLROnPlateau()])"
   ]
  },
  {
   "cell_type": "markdown",
   "metadata": {},
   "source": [
    "### 3.2. Avaliar e Visualizar a Performance do Modelo\n",
    "\n",
    "##### Passo 1: Avaliando o Modelo\n",
    "- **Precisão nos Dados de Teste**:\n",
    "  - Use `model.evaluate(x_test, y_test)` para calcular a precisão do modelo no conjunto de teste.\n",
    "\n",
    "##### Passo 2: Preparando os Gráficos\n",
    "- **Definindo Épocas**:\n",
    "  - Crie uma lista de épocas para o eixo x\n",
    "- **Configurando o Layout do Gráfico**:\n",
    "  - Use `fig, ax = plt.subplots(1, 2)` para criar dois gráficos lado a lado.\n",
    "\n",
    "##### Passo 3: Plotando a Perda\n",
    "- **Gráfico de Perda**:\n",
    "  - Plote a perda de treino e teste:\n",
    "    ```python\n",
    "    ax[0].plot(epochs, train_loss, label='Training Loss')\n",
    "    ax[0].plot(epochs, test_loss, label='Testing Loss')\n",
    "    ```\n",
    "\n",
    "##### Passo 4: Plotando a Precisão\n",
    "- **Gráfico de Precisão**:\n",
    "  - Plote a precisão de treino e teste:\n",
    "    ```python\n",
    "    ax[1].plot(epochs, train_acc, label='Training Accuracy')\n",
    "    ax[1].plot(epochs, test_acc, label='Testing Accuracy')\n",
    "    ```\n",
    "\n",
    "##### Objetivos:\n",
    "  - **Perda**: Ajuda a identificar se o modelo está treinando bem ou se há overfitting.\n",
    "  - **Precisão**: Mostra o quão eficaz é o treinamento do modelo em acertar as previsões.\n"
   ]
  },
  {
   "cell_type": "code",
   "execution_count": 102,
   "metadata": {},
   "outputs": [
    {
     "name": "stdout",
     "output_type": "stream",
     "text": [
      "\u001b[1m34/34\u001b[0m \u001b[32m━━━━━━━━━━━━━━━━━━━━\u001b[0m\u001b[37m\u001b[0m \u001b[1m0s\u001b[0m 10ms/step - accuracy: 0.5917 - loss: 1.4457\n"
     ]
    },
    {
     "data": {
      "text/plain": [
       "<matplotlib.legend.Legend at 0x1e8addfc050>"
      ]
     },
     "execution_count": 102,
     "metadata": {},
     "output_type": "execute_result"
    },
    {
     "data": {
      "text/plain": [
       "<Figure size 1500x500 with 0 Axes>"
      ]
     },
     "metadata": {},
     "output_type": "display_data"
    },
    {
     "data": {
      "image/png": "[encoded data removed]",
      "text/plain": [
       "<Figure size 1500x500 with 2 Axes>"
      ]
     },
     "metadata": {},
     "output_type": "display_data"
    }
   ],
   "source": [
    "loss, accuracy = model.evaluate(x_test, y_test)\n",
    "\n",
    "plt.figure(figsize=(15, 5))\n",
    "\n",
    "epochs = list(range(1, 51))\n",
    "\n",
    "fig, ax = plt.subplots(1, 2, figsize=(15, 5))\n",
    "\n",
    "# gráficos de perda\n",
    "train_loss = treinamento.history['loss'] \n",
    "test_loss = treinamento.history['val_loss'] \n",
    "\n",
    "ax[0].plot(epochs, train_loss, label='Training loss')\n",
    "ax[0].plot(epochs, test_loss, label='Testing loss')\n",
    "\n",
    "ax[0].set_title('Training & test loss')\n",
    "ax[0].set_xlabel('Epochs')\n",
    "ax[0].set_ylabel('Loss')\n",
    "ax[0].legend() \n",
    "\n",
    "\n",
    "train_acc = treinamento.history['accuracy'] \n",
    "teste_acc = treinamento.history['val_accuracy'] \n",
    "\n",
    "ax[1].plot(epochs, train_acc, label='Training acuraccy')\n",
    "ax[1].plot(epochs, teste_acc, label='Testing acuraccy')\n",
    "\n",
    "ax[1].set_title('Training & test accuracy')\n",
    "ax[1].set_xlabel('Epochs')\n",
    "ax[1].set_ylabel('Accuracy')\n",
    "ax[1].legend()"
   ]
  },
  {
   "cell_type": "markdown",
   "metadata": {},
   "source": [
    "### 3.3. Chegou a parte boa! vamos prever os valores nos dados de teste\n",
    "- Passo 1: Use model.predict() no x_test e salve o resultado em pred_test.\n",
    "- Passo 2: Crie y_pred a partir de pred_test usando inverse_transform do encoder (Precisamos converter as previsões codificadas do One-Hot de volta aos rótulos originais)\n",
    "- Passo 3: Faça o mesmo para os rótulos de teste (y_test), decodificando-os de volta aos rótulos originais."
   ]
  },
  {
   "cell_type": "code",
   "execution_count": 103,
   "metadata": {},
   "outputs": [
    {
     "name": "stdout",
     "output_type": "stream",
     "text": [
      "\u001b[1m34/34\u001b[0m \u001b[32m━━━━━━━━━━━━━━━━━━━━\u001b[0m\u001b[37m\u001b[0m \u001b[1m1s\u001b[0m 13ms/step\n"
     ]
    }
   ],
   "source": [
    "pred_test = model.predict(x_test)\n",
    "y_pred = encoder.inverse_transform(pred_test)\n",
    "y_test = encoder.inverse_transform(y_test)"
   ]
  },
  {
   "cell_type": "code",
   "execution_count": 104,
   "metadata": {},
   "outputs": [
    {
     "data": {
      "text/html": [
       "<div>\n",
       "<style scoped>\n",
       "    .dataframe tbody tr th:only-of-type {\n",
       "        vertical-align: middle;\n",
       "    }\n",
       "\n",
       "    .dataframe tbody tr th {\n",
       "        vertical-align: top;\n",
       "    }\n",
       "\n",
       "    .dataframe thead th {\n",
       "        text-align: right;\n",
       "    }\n",
       "</style>\n",
       "<table border=\"1\" class=\"dataframe\">\n",
       "  <thead>\n",
       "    <tr style=\"text-align: right;\">\n",
       "      <th></th>\n",
       "      <th>Predicted Labels</th>\n",
       "      <th>Actual Labels</th>\n",
       "    </tr>\n",
       "  </thead>\n",
       "  <tbody>\n",
       "    <tr>\n",
       "      <th>0</th>\n",
       "      <td>fear</td>\n",
       "      <td>disgust</td>\n",
       "    </tr>\n",
       "    <tr>\n",
       "      <th>1</th>\n",
       "      <td>surprise</td>\n",
       "      <td>surprise</td>\n",
       "    </tr>\n",
       "    <tr>\n",
       "      <th>2</th>\n",
       "      <td>fear</td>\n",
       "      <td>fear</td>\n",
       "    </tr>\n",
       "    <tr>\n",
       "      <th>3</th>\n",
       "      <td>fear</td>\n",
       "      <td>fear</td>\n",
       "    </tr>\n",
       "    <tr>\n",
       "      <th>4</th>\n",
       "      <td>disgust</td>\n",
       "      <td>disgust</td>\n",
       "    </tr>\n",
       "    <tr>\n",
       "      <th>5</th>\n",
       "      <td>angry</td>\n",
       "      <td>angry</td>\n",
       "    </tr>\n",
       "    <tr>\n",
       "      <th>6</th>\n",
       "      <td>disgust</td>\n",
       "      <td>sad</td>\n",
       "    </tr>\n",
       "    <tr>\n",
       "      <th>7</th>\n",
       "      <td>calm</td>\n",
       "      <td>calm</td>\n",
       "    </tr>\n",
       "    <tr>\n",
       "      <th>8</th>\n",
       "      <td>calm</td>\n",
       "      <td>calm</td>\n",
       "    </tr>\n",
       "    <tr>\n",
       "      <th>9</th>\n",
       "      <td>calm</td>\n",
       "      <td>sad</td>\n",
       "    </tr>\n",
       "  </tbody>\n",
       "</table>\n",
       "</div>"
      ],
      "text/plain": [
       "  Predicted Labels Actual Labels\n",
       "0             fear       disgust\n",
       "1         surprise      surprise\n",
       "2             fear          fear\n",
       "3             fear          fear\n",
       "4          disgust       disgust\n",
       "5            angry         angry\n",
       "6          disgust           sad\n",
       "7             calm          calm\n",
       "8             calm          calm\n",
       "9             calm           sad"
      ]
     },
     "execution_count": 104,
     "metadata": {},
     "output_type": "execute_result"
    }
   ],
   "source": [
    "# Rode essa célula para ver se o modelo que criamos está fazendo sentido para a maioria dos valores.\n",
    "\n",
    "df = pd.DataFrame(columns=['Predicted Labels', 'Actual Labels'])\n",
    "df['Predicted Labels'] = y_pred.flatten()\n",
    "df['Actual Labels'] = y_test.flatten()\n",
    "\n",
    "df.head(10)"
   ]
  },
  {
   "cell_type": "markdown",
   "metadata": {},
   "source": [
    "### 3.4. Plotar Matriz de Confusão\n",
    "- Agora tenho um desafio para você, eu quero que você crie uma matriz de confusão que relacione os resultados preditos com os valores reais das emoções!"
   ]
  },
  {
   "cell_type": "code",
   "execution_count": 105,
   "metadata": {},
   "outputs": [
    {
     "data": {
      "image/png": "[encoded data removed]",
      "text/plain": [
       "<Figure size 1500x800 with 2 Axes>"
      ]
     },
     "metadata": {},
     "output_type": "display_data"
    }
   ],
   "source": [
    "matriz_correlacao = confusion_matrix(y_test, y_pred)\n",
    "\n",
    "plt.figure(figsize=(15, 8))\n",
    "\n",
    "emotions = df['Actual Labels'].unique()\n",
    "\n",
    "sns.heatmap(matriz_correlacao, cmap='Blues', annot=True, linewidths=1, xticklabels=emotion, yticklabels=emotions, fmt='d')\n",
    "plt.show()"
   ]
  },
  {
   "cell_type": "code",
   "execution_count": 106,
   "metadata": {},
   "outputs": [
    {
     "name": "stdout",
     "output_type": "stream",
     "text": [
      "              precision    recall  f1-score   support\n",
      "\n",
      "       angry       0.82      0.62      0.71       156\n",
      "        calm       0.68      0.77      0.72       146\n",
      "     disgust       0.53      0.54      0.53       140\n",
      "        fear       0.56      0.57      0.57       140\n",
      "       happy       0.49      0.56      0.52       123\n",
      "     neutral       0.30      0.26      0.28        68\n",
      "         sad       0.54      0.48      0.51       151\n",
      "    surprise       0.65      0.73      0.69       156\n",
      "\n",
      "    accuracy                           0.59      1080\n",
      "   macro avg       0.57      0.57      0.57      1080\n",
      "weighted avg       0.60      0.59      0.59      1080\n",
      "\n"
     ]
    }
   ],
   "source": [
    "# Use a função classification_report do sklearn para visualizar a precisão, recall e f1-score do modelo.\n",
    "print(classification_report(y_test, y_pred))"
   ]
  },
  {
   "cell_type": "markdown",
   "metadata": {},
   "source": [
    "### 4. Conclusão\n",
    "- Podemos ver que nosso modelo é mais preciso na predição das emoções surpresa e raiva, o que faz sentido, pois os arquivos de áudio dessas emoções diferem bastante dos outros em aspectos como tom, velocidade, etc.\n",
    "- No geral, alcançamos 62% de precisão nos dados de teste, o que é razoável, mas podemos melhorar ainda mais aplicando mais técnicas de aumento de dados e utilizando outros métodos de extração de features."
   ]
  },
  {
   "cell_type": "markdown",
   "metadata": {},
   "source": [
    "### 5. Salvando o Modelo e o Scaler"
   ]
  },
  {
   "cell_type": "markdown",
   "metadata": {},
   "source": [
    "##### Passo 1: Salvando o Modelo\n",
    "1. **Importação:** Use o `load_model` do Keras.\n",
    "2. **Diretório:** Crie um diretório chamado `models` se não existir.\n",
    "3. **Salvar:** Salve o modelo como no caminho especificado.\n",
    "\n",
    "##### Passo 2: Salvando o Scaler\n",
    "1. **Importação:** Use `joblib`.\n",
    "2. **Diretório:** Utilize o mesmo caminho `models`.\n",
    "3. **Salvar:** Salve o scaler."
   ]
  },
  {
   "cell_type": "code",
   "execution_count": 111,
   "metadata": {},
   "outputs": [
    {
     "name": "stdout",
     "output_type": "stream",
     "text": [
      "Pasta 'models' criada com sucesso!\n",
      "Modelo salvo com sucesso em: models\\modelo_sinistro.keras\n"
     ]
    }
   ],
   "source": [
    "directory_name = 'models'\n",
    "\n",
    "try:\n",
    "    os.makedirs(directory_name)\n",
    "    print(f\"Pasta '{directory_name}' criada com sucesso!\")\n",
    "except FileExistsError:\n",
    "    print(f\"Pasta {directory_name} já existe!\")\n",
    "except PermissionError:\n",
    "    print(f\"Acesso negada: Não foi possível criar a pasta {directory_name}.\")\n",
    "except Exception as e:\n",
    "    print(f\"Um erro ocorreu: {e}\")\n",
    "\n",
    "\n",
    "model_path = os.path.join(directory_name, 'modelo_sinistro.keras')\n",
    "\n",
    "model.save(model_path)\n",
    "\n",
    "print(f\"Modelo salvo com sucesso em: {model_path}\")"
   ]
  },
  {
   "cell_type": "code",
   "execution_count": 115,
   "metadata": {},
   "outputs": [
    {
     "name": "stdout",
     "output_type": "stream",
     "text": [
      "Scaler salvo com sucesso em: models\\scaler_sinistro.save\n"
     ]
    }
   ],
   "source": [
    "scaler_path = os.path.join(directory_name, 'scaler_sinistro.save')\n",
    "scaler_filename = scaler_path\n",
    "joblib.dump(scaler, scaler_filename)\n",
    "\n",
    "print(f'Scaler salvo com sucesso em: {scaler_path}')"
   ]
  }
 ],
 "metadata": {
  "kernelspec": {
   "display_name": "venv",
   "language": "python",
   "name": "python3"
  },
  "language_info": {
   "codemirror_mode": {
    "name": "ipython",
    "version": 3
   },
   "file_extension": ".py",
   "mimetype": "text/x-python",
   "name": "python",
   "nbconvert_exporter": "python",
   "pygments_lexer": "ipython3",
   "version": "3.13.7"
  }
 },
 "nbformat": 4,
 "nbformat_minor": 4
}
